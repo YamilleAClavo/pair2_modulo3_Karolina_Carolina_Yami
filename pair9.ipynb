{
 "cells": [
  {
   "cell_type": "markdown",
   "metadata": {},
   "source": [
    "Ejercicios estadística inferencial\n",
    "1. Igual que en los ejercicios de la clase invertida, evalúa si las siguientes afirmaciones corresponden a una distribución exponencial o poisson => Exponencial\n",
    "- ¿El tiempo que transcurre entre la llegada de autobuses a una parada sigue una distribución exponencial o de Poisson? => Exponencial\n",
    "- ¿El tiempo que transcurre entre la llegada de solicitudes de servicio en un restaurante sigue una distribución exponencial o de Poisson? => Exponencial\n",
    "- ¿El tiempo que transcurre entre la llegada de taxis en una parada sigue una distribución exponencial o de Poisson? => Exponencial\n",
    "- ¿El número de errores de ortografía en un libro de texto sigue una distribución exponencial o de Poisson? => Poisson"
   ]
  },
  {
   "cell_type": "markdown",
   "metadata": {},
   "source": [
    "Ejercicios intervalo de confianza. \n",
    "\n",
    "2. Al igual que en el caso del ejercicio de la clase invertida, piensa un motivo por el que sería interesante calcular estos intervalos de confianza para la extracción de insights.\n",
    "- Intervalo de Confianza para la Esperanza de Vida\n",
    "Contexto: Trabajas en una organización de salud global y deseas estimar el intervalo de confianza al 95% para la esperanza de vida promedio de cada continente.\n",
    "Nota: Cuidado porque puede que os salgan algunos nulos, genera un código para que no salgan nulos en los intervalos de confianza.\n",
    "- Intervalo de Confianza para el PIB\n",
    "Contexto: Eres una economista y quieres calcular el intervalo de confianza al 90% para el Producto Interno Bruto (PIB) de los continentes."
   ]
  },
  {
   "cell_type": "markdown",
   "metadata": {},
   "source": [
    "Calcular intervalos de confianza en estos contextos es crucial porque nos permite obtener una estimación más precisa y con un nivel de certeza conocido sobre el valor medio de variables clave, como la esperanza de vida o el PIB, basándonos en datos muestrales.\n",
    "\n",
    "Intervalo de Confianza para la Esperanza de Vida:\n",
    "Motivo: Estimar la esperanza de vida promedio con un intervalo de confianza nos permite evaluar la calidad de vida y las condiciones de salud de diferentes continentes. Este análisis es útil para priorizar intervenciones de salud pública y asignar recursos de manera más efectiva.\n",
    "Insight: Un intervalo de confianza estrecho indicaría que tenemos una estimación precisa de la esperanza de vida, mientras que un intervalo amplio podría señalar la necesidad de más datos o indicar una gran variabilidad dentro del continente.\n",
    "\n",
    "Intervalo de Confianza para el PIB:\n",
    "Motivo: Calcular un intervalo de confianza para el PIB de los continentes proporciona una estimación sobre el desempeño económico medio con un cierto grado de certeza. Este análisis es útil para entender el potencial económico y la estabilidad de diferentes regiones, lo cual puede influir en decisiones de inversión y políticas económicas.\n",
    "Insight: Un intervalo de confianza que excluye ciertos valores podría dar información crucial sobre la posible estabilidad económica de un continente, ayudando a mitigar riesgos económicos y planificar estrategias de desarrollo."
   ]
  },
  {
   "cell_type": "code",
   "execution_count": 1,
   "metadata": {},
   "outputs": [
    {
     "ename": "NameError",
     "evalue": "name 'df' is not defined",
     "output_type": "error",
     "traceback": [
      "\u001b[0;31m---------------------------------------------------------------------------\u001b[0m",
      "\u001b[0;31mNameError\u001b[0m                                 Traceback (most recent call last)",
      "Cell \u001b[0;32mIn[1], line 14\u001b[0m\n\u001b[1;32m     11\u001b[0m resultados_pib \u001b[38;5;241m=\u001b[39m []\n\u001b[1;32m     13\u001b[0m \u001b[38;5;66;03m# Iteramos por cada continente\u001b[39;00m\n\u001b[0;32m---> 14\u001b[0m \u001b[38;5;28;01mfor\u001b[39;00m continente \u001b[38;5;129;01min\u001b[39;00m df[\u001b[38;5;124m'\u001b[39m\u001b[38;5;124mContinente\u001b[39m\u001b[38;5;124m'\u001b[39m]\u001b[38;5;241m.\u001b[39munique():\n\u001b[1;32m     15\u001b[0m     \n\u001b[1;32m     16\u001b[0m     \u001b[38;5;66;03m# Filtrar los datos por continente\u001b[39;00m\n\u001b[1;32m     17\u001b[0m     datos_vida \u001b[38;5;241m=\u001b[39m df[df[\u001b[38;5;124m'\u001b[39m\u001b[38;5;124mContinente\u001b[39m\u001b[38;5;124m'\u001b[39m] \u001b[38;5;241m==\u001b[39m continente][\u001b[38;5;124m'\u001b[39m\u001b[38;5;124mEsperanza de Vida\u001b[39m\u001b[38;5;124m'\u001b[39m]\u001b[38;5;241m.\u001b[39mdropna()\n\u001b[1;32m     18\u001b[0m     datos_pib \u001b[38;5;241m=\u001b[39m df[df[\u001b[38;5;124m'\u001b[39m\u001b[38;5;124mContinente\u001b[39m\u001b[38;5;124m'\u001b[39m] \u001b[38;5;241m==\u001b[39m continente][\u001b[38;5;124m'\u001b[39m\u001b[38;5;124mPIB\u001b[39m\u001b[38;5;124m'\u001b[39m]\u001b[38;5;241m.\u001b[39mdropna()\n",
      "\u001b[0;31mNameError\u001b[0m: name 'df' is not defined"
     ]
    }
   ],
   "source": [
    "import pandas as pd\n",
    "import numpy as np\n",
    "import scipy.stats as stats\n",
    "\n",
    "# Supongamos que tienes un DataFrame `df` con las columnas 'Continente', 'Esperanza de Vida' y 'PIB'\n",
    "\n",
    "# Filtramos los datos por continente y calculamos el intervalo de confianza para cada uno\n",
    "\n",
    "# Lista para almacenar los resultados\n",
    "resultados_vida = []\n",
    "resultados_pib = []\n",
    "\n",
    "# Iteramos por cada continente\n",
    "for continente in df['Continente'].unique():\n",
    "    \n",
    "    # Filtrar los datos por continente\n",
    "    datos_vida = df[df['Continente'] == continente]['Esperanza de Vida'].dropna()\n",
    "    datos_pib = df[df['Continente'] == continente]['PIB'].dropna()\n",
    "    \n",
    "    # Cálculo del intervalo de confianza para la esperanza de vida\n",
    "    n_vida = len(datos_vida)\n",
    "    media_vida = np.mean(datos_vida)\n",
    "    se_vida = stats.sem(datos_vida)\n",
    "    margen_error_vida = se_vida * stats.t.ppf((1 + 0.95) / 2., n_vida-1)\n",
    "    intervalo_vida = (media_vida, media_vida - margen_error_vida, media_vida + margen_error_vida)\n",
    "    resultados_vida.append([continente, intervalo_vida[0], intervalo_vida[1], intervalo_vida[2]])\n",
    "    \n",
    "    # Cálculo del intervalo de confianza para el PIB\n",
    "    n_pib = len(datos_pib)\n",
    "    media_pib = np.mean(datos_pib)\n",
    "    se_pib = stats.sem(datos_pib)\n",
    "    margen_error_pib = se_pib * stats.t.ppf((1 + 0.90) / 2., n_pib-1)\n",
    "    intervalo_pib = (media_pib, media_pib - margen_error_pib, media_pib + margen_error_pib)\n",
    "    resultados_pib.append([continente, intervalo_pib[0], intervalo_pib[1], intervalo_pib[2]])\n",
    "\n",
    "# Convertir los resultados en DataFrames para una presentación clara\n",
    "df_resultados_vida = pd.DataFrame(resultados_vida, columns=['Continente', 'Media', 'IC_Inf', 'IC_Sup'])\n",
    "df_resultados_pib = pd.DataFrame(resultados_pib, columns=['Continente', 'Media', 'IC_Inf', 'IC_Sup'])\n",
    "\n",
    "# Mostrar los resultados\n",
    "print(\"Intervalo de Confianza para la Esperanza de Vida:\")\n",
    "print(df_resultados_vida)\n",
    "\n",
    "print(\"\\nIntervalo de Confianza para el PIB:\")\n",
    "print(df_resultados_pib)\n"
   ]
  }
 ],
 "metadata": {
  "kernelspec": {
   "display_name": "base",
   "language": "python",
   "name": "python3"
  },
  "language_info": {
   "codemirror_mode": {
    "name": "ipython",
    "version": 3
   },
   "file_extension": ".py",
   "mimetype": "text/x-python",
   "name": "python",
   "nbconvert_exporter": "python",
   "pygments_lexer": "ipython3",
   "version": "3.11.7"
  }
 },
 "nbformat": 4,
 "nbformat_minor": 2
}
