{
 "cells": [
  {
   "cell_type": "code",
   "execution_count": 1,
   "metadata": {},
   "outputs": [],
   "source": [
    "# importamos las librerías que necesitamos\n",
    "\n",
    "# Tratamiento de datos\n",
    "# -----------------------------------------------------------------------\n",
    "import pandas as pd\n",
    "import numpy as np\n",
    "\n",
    "# Visualización\n",
    "# ------------------------------------------------------------------------------\n",
    "import matplotlib.pyplot as plt\n",
    "import seaborn as sns\n",
    "\n",
    "# Evaluar linealidad de las relaciones entre las variables\n",
    "# y la distribución de las variables\n",
    "# ------------------------------------------------------------------------------\n",
    "import scipy.stats as stats\n",
    "from scipy.stats import chi2_contingency, ttest_ind\n",
    "\n",
    "# Configuración\n",
    "# -----------------------------------------------------------------------\n",
    "pd.set_option('display.max_columns', None) # para poder visualizar todas las columnas de los DataFrames\n",
    "\n",
    "# Gestión de los warnings\n",
    "# -----------------------------------------------------------------------\n",
    "import warnings\n",
    "warnings.filterwarnings(\"ignore\")"
   ]
  },
  {
   "cell_type": "markdown",
   "metadata": {},
   "source": [
    "## Ejercicio 1:\n",
    "Supongamos que estamos realizando un experimento para determinar si un nuevo diseño de anuncio (test group \"ad\") tiene un impacto significativo en la tasa de conversión en comparación con el diseño de anuncio anterior (test group \"psa\").\n",
    "\n",
    "Objetivo del ejercicio: Comparar las tasas de conversión entre los grupos de prueba \"ad\" y \"psa\" para determinar si el nuevo diseño de anuncio es más efectivo en la conversión de usuarios.\n",
    "\n",
    "Pasos que debemos seguir:\n",
    "\n",
    "Preparación de los datos: Asegúrate de que los datos estén limpios y listos para el análisis. Esto incluye la eliminación de datos faltantes y la verificación de la coherencia de los datos.\n",
    "\n",
    "Definición de las hipótesis: Plantea una hipótesis nula (H0) y una hipótesis alternativa (H1) para el experimento (en este caso os las damos definidas):\n",
    "\n",
    "Hipótesis nula (H0): No hay diferencia significativa en la tasa de conversión entre los grupos de prueba \"ad\" y \"psa\".\n",
    "\n",
    "Hipótesis alternativa (H1): Existe una diferencia significativa en la tasa de conversión entre los grupos de prueba \"ad\" y \"psa\".\n",
    "\n",
    "Cálculo de la tasa de conversión: Calcula la tasa de conversión para cada grupo:\n",
    "\n",
    "Para el grupo \"ad\", la tasa de conversión es el número de usuarios convertidos dividido por el número total de usuarios en ese grupo.\n",
    "\n",
    "Para el grupo \"psa\", realiza el mismo cálculo.\n",
    "\n",
    "Prueba de hipótesis: Utiliza una prueba estadística, como la prueba t de Student o la prueba chi-cuadrado, para comparar las tasas de conversión entre los grupos \"ad\" y \"psa\".\n",
    "\n",
    "Análisis de resultados:\n",
    "\n",
    "Si el valor p es menor que un umbral predefinido (por ejemplo, 0.05), rechazamos la hipótesis nula y concluimos que hay una diferencia significativa en las tasas de conversión entre los grupos.\n",
    "\n",
    "Si el valor p es mayor que el umbral, no podemos rechazar la hipótesis nula y concluimos que no hay evidencia suficiente para afirmar que hay una diferencia significativa.\n",
    "\n",
    "Conclusiones y recomendaciones: Basándote en los resultados de la prueba de hipótesis, llega a una conclusión sobre si el nuevo diseño de anuncio es más efectivo en la conversión de usuarios que el diseño anterior. Si es así, puedes hacer recomendaciones basadas en estos hallazgos."
   ]
  },
  {
   "cell_type": "code",
   "execution_count": 2,
   "metadata": {},
   "outputs": [
    {
     "data": {
      "text/html": [
       "<div>\n",
       "<style scoped>\n",
       "    .dataframe tbody tr th:only-of-type {\n",
       "        vertical-align: middle;\n",
       "    }\n",
       "\n",
       "    .dataframe tbody tr th {\n",
       "        vertical-align: top;\n",
       "    }\n",
       "\n",
       "    .dataframe thead th {\n",
       "        text-align: right;\n",
       "    }\n",
       "</style>\n",
       "<table border=\"1\" class=\"dataframe\">\n",
       "  <thead>\n",
       "    <tr style=\"text-align: right;\">\n",
       "      <th></th>\n",
       "      <th>user id</th>\n",
       "      <th>test group</th>\n",
       "      <th>converted</th>\n",
       "      <th>total ads</th>\n",
       "      <th>most ads day</th>\n",
       "      <th>most ads hour</th>\n",
       "    </tr>\n",
       "  </thead>\n",
       "  <tbody>\n",
       "    <tr>\n",
       "      <th>0</th>\n",
       "      <td>1069124</td>\n",
       "      <td>ad</td>\n",
       "      <td>False</td>\n",
       "      <td>130</td>\n",
       "      <td>Monday</td>\n",
       "      <td>20</td>\n",
       "    </tr>\n",
       "    <tr>\n",
       "      <th>1</th>\n",
       "      <td>1119715</td>\n",
       "      <td>ad</td>\n",
       "      <td>False</td>\n",
       "      <td>93</td>\n",
       "      <td>Tuesday</td>\n",
       "      <td>22</td>\n",
       "    </tr>\n",
       "    <tr>\n",
       "      <th>2</th>\n",
       "      <td>1144181</td>\n",
       "      <td>ad</td>\n",
       "      <td>False</td>\n",
       "      <td>21</td>\n",
       "      <td>Tuesday</td>\n",
       "      <td>18</td>\n",
       "    </tr>\n",
       "    <tr>\n",
       "      <th>3</th>\n",
       "      <td>1435133</td>\n",
       "      <td>ad</td>\n",
       "      <td>False</td>\n",
       "      <td>355</td>\n",
       "      <td>Tuesday</td>\n",
       "      <td>10</td>\n",
       "    </tr>\n",
       "    <tr>\n",
       "      <th>4</th>\n",
       "      <td>1015700</td>\n",
       "      <td>ad</td>\n",
       "      <td>False</td>\n",
       "      <td>276</td>\n",
       "      <td>Friday</td>\n",
       "      <td>14</td>\n",
       "    </tr>\n",
       "  </tbody>\n",
       "</table>\n",
       "</div>"
      ],
      "text/plain": [
       "   user id test group  converted  total ads most ads day  most ads hour\n",
       "0  1069124         ad      False        130       Monday             20\n",
       "1  1119715         ad      False         93      Tuesday             22\n",
       "2  1144181         ad      False         21      Tuesday             18\n",
       "3  1435133         ad      False        355      Tuesday             10\n",
       "4  1015700         ad      False        276       Friday             14"
      ]
     },
     "execution_count": 2,
     "metadata": {},
     "output_type": "execute_result"
    }
   ],
   "source": [
    "df = pd.read_csv(\"marketing_AB.csv\", index_col=0)\n",
    "df.head()"
   ]
  },
  {
   "cell_type": "code",
   "execution_count": 3,
   "metadata": {},
   "outputs": [],
   "source": [
    "import pandas as pd\n",
    "import numpy as np\n",
    "from IPython.display import display\n",
    "from itertools import combinations\n",
    "from scipy.stats import kstest, spearmanr, pearsonr\n",
    "\n",
    "\n",
    "class AutoEDA:\n",
    "    def __init__(self):\n",
    "        pass\n",
    "\n",
    "    def read_file(self, file_path):\n",
    "        \"\"\"\n",
    "        Reads a file and returns a pandas DataFrame.\n",
    "        \n",
    "        Parameters:\n",
    "        - file_path (str): The path to the file.\n",
    "        \n",
    "        Returns:\n",
    "        - DataFrame: A pandas DataFrame.\n",
    "        \"\"\"\n",
    "        # Determine the file extension\n",
    "        file_extension = file_path.split('.')[-1].lower()\n",
    "        \n",
    "        # Read the file based on the file extension\n",
    "        try:\n",
    "            if file_extension == 'csv':\n",
    "                return pd.read_csv(file_path, index_col=0)\n",
    "            elif file_extension in ['xls', 'xlsx']:\n",
    "                return pd.read_excel(file_path)\n",
    "            elif file_extension == 'json':\n",
    "                return pd.read_json(file_path)\n",
    "            elif file_extension == 'pkl':\n",
    "                return pd.read_pickle(file_path)\n",
    "            else:\n",
    "                raise ValueError(\"Reading this format is not yet implemented.\")\n",
    "        except Exception as e:\n",
    "            return f\"File reading failed, error: {e}.\"\n",
    "\n",
    "\n",
    "    def explo_df(self, DataFrame, column=None):\n",
    "        \"\"\"\n",
    "        Explores a DataFrame or a specific column and prints various statistics.\n",
    "        \n",
    "        Parameters:\n",
    "        - DataFrame: The DataFrame to explore.\n",
    "        - column (str or list, optional): The column or columns to explore. If None, explore the entire DataFrame.\n",
    "        \"\"\"\n",
    "        if column is None:\n",
    "            # General DataFrame exploration\n",
    "            print(\"DataFrame Information:\")\n",
    "            display(DataFrame.info())\n",
    "            print(\"\\nFirst 10 rows of the DataFrame:\")\n",
    "            display(DataFrame.head(10))\n",
    "            print(\"\\nLast 10 rows of the DataFrame:\")\n",
    "            display(DataFrame.tail(10))\n",
    "            print(\"\\nStatistical description of the DataFrame (numeric):\")\n",
    "            display(DataFrame.describe().T)\n",
    "            print(\"\\nStatistical description of the DataFrame (categorical):\")\n",
    "            display(DataFrame.describe(include='object').T)\n",
    "            print(\"\\nCount of null values per column:\")\n",
    "            display(DataFrame.isnull().sum())\n",
    "            print(\"\\nPercentage of null values per column (only columns with nulls):\")\n",
    "            null_percentage = round(DataFrame.isnull().sum()/DataFrame.shape[0]*100, 2)\n",
    "            display(null_percentage[null_percentage > 0])\n",
    "            print(\"\\nRows with all values as null:\")\n",
    "            all_null_rows = DataFrame[DataFrame.isnull().all(axis=1)]\n",
    "            if not all_null_rows.empty:\n",
    "                display(all_null_rows)\n",
    "            else:\n",
    "                print(\"There is no rows with all values as null.\")\n",
    "            print(\"\\nCount of duplicate rows:\")\n",
    "            display(DataFrame.duplicated().sum())\n",
    "        else:\n",
    "            # Column(s) exploration\n",
    "            if isinstance(column, str):\n",
    "                column = [column]  # Convert to list if a single column is passed as a string\n",
    "            for col in column:\n",
    "                print(f\"\\nExploration of the column: {col}\")\n",
    "                if DataFrame[col].dtype in ['int64', 'float64']:\n",
    "                    print(\"\\nStatistical description (numeric):\")\n",
    "                    display(DataFrame[col].describe())\n",
    "                else:\n",
    "                    print(\"\\nStatistical description (categorical):\")\n",
    "                    display(DataFrame[col].describe(include='object'))\n",
    "                print(\"\\nCount of null values:\")\n",
    "                display(DataFrame[col].isnull().sum())\n",
    "                print(\"\\nCount of unique values:\")\n",
    "                display(DataFrame[col].nunique())\n",
    "                print(\"\\nUnique values:\")\n",
    "                display(DataFrame[col].unique())\n",
    "                print(\"\\nValue Counts:\")\n",
    "                display(DataFrame[col].value_counts())\n",
    "                print(\"\\nMost frequent value (mode):\")\n",
    "                display(DataFrame[col].mode().iloc[0])\n",
    "                print(\"\\nCount of duplicates in the column:\")\n",
    "                display(DataFrame.duplicated(subset=[col]).sum())"
   ]
  },
  {
   "cell_type": "code",
   "execution_count": 4,
   "metadata": {},
   "outputs": [
    {
     "data": {
      "text/plain": [
       "Index(['user id', 'test group', 'converted', 'total ads', 'most ads day',\n",
       "       'most ads hour'],\n",
       "      dtype='object')"
      ]
     },
     "execution_count": 4,
     "metadata": {},
     "output_type": "execute_result"
    }
   ],
   "source": [
    "df.columns"
   ]
  },
  {
   "cell_type": "code",
   "execution_count": 11,
   "metadata": {},
   "outputs": [
    {
     "name": "stdout",
     "output_type": "stream",
     "text": [
      "\n",
      "Exploration of the column: most ads hour\n",
      "\n",
      "Statistical description (numeric):\n"
     ]
    },
    {
     "data": {
      "text/plain": [
       "count    588101.000000\n",
       "mean         14.469061\n",
       "std           4.834634\n",
       "min           0.000000\n",
       "25%          11.000000\n",
       "50%          14.000000\n",
       "75%          18.000000\n",
       "max          23.000000\n",
       "Name: most ads hour, dtype: float64"
      ]
     },
     "metadata": {},
     "output_type": "display_data"
    },
    {
     "name": "stdout",
     "output_type": "stream",
     "text": [
      "\n",
      "Count of null values:\n"
     ]
    },
    {
     "data": {
      "text/plain": [
       "0"
      ]
     },
     "metadata": {},
     "output_type": "display_data"
    },
    {
     "name": "stdout",
     "output_type": "stream",
     "text": [
      "\n",
      "Count of unique values:\n"
     ]
    },
    {
     "data": {
      "text/plain": [
       "24"
      ]
     },
     "metadata": {},
     "output_type": "display_data"
    },
    {
     "name": "stdout",
     "output_type": "stream",
     "text": [
      "\n",
      "Unique values:\n"
     ]
    },
    {
     "data": {
      "text/plain": [
       "array([20, 22, 18, 10, 14, 13, 19, 11, 12, 16, 21,  3, 23,  4,  8,  0,  2,\n",
       "       15,  1,  6, 17,  7,  9,  5])"
      ]
     },
     "metadata": {},
     "output_type": "display_data"
    },
    {
     "name": "stdout",
     "output_type": "stream",
     "text": [
      "\n",
      "Value Counts:\n"
     ]
    },
    {
     "data": {
      "text/plain": [
       "13    47655\n",
       "12    47298\n",
       "11    46210\n",
       "14    45648\n",
       "15    44683\n",
       "10    38939\n",
       "16    37567\n",
       "17    34988\n",
       "18    32323\n",
       "9     31004\n",
       "19    30352\n",
       "21    29976\n",
       "20    28923\n",
       "22    26432\n",
       "23    20166\n",
       "8     17627\n",
       "7      6405\n",
       "0      5536\n",
       "2      5333\n",
       "1      4802\n",
       "3      2679\n",
       "6      2068\n",
       "5       765\n",
       "4       722\n",
       "Name: most ads hour, dtype: int64"
      ]
     },
     "metadata": {},
     "output_type": "display_data"
    },
    {
     "name": "stdout",
     "output_type": "stream",
     "text": [
      "\n",
      "Most frequent value (mode):\n"
     ]
    },
    {
     "data": {
      "text/plain": [
       "13"
      ]
     },
     "metadata": {},
     "output_type": "display_data"
    },
    {
     "name": "stdout",
     "output_type": "stream",
     "text": [
      "\n",
      "Count of duplicates in the column:\n"
     ]
    },
    {
     "data": {
      "text/plain": [
       "588077"
      ]
     },
     "metadata": {},
     "output_type": "display_data"
    }
   ],
   "source": [
    "autoEda = AutoEDA()\n",
    "df = autoEda.read_file(\"marketing_AB.csv\")\n",
    "autoEda.explo_df(df, \"most ads hour\")"
   ]
  },
  {
   "cell_type": "code",
   "execution_count": 12,
   "metadata": {},
   "outputs": [
    {
     "data": {
      "text/html": [
       "<div>\n",
       "<style scoped>\n",
       "    .dataframe tbody tr th:only-of-type {\n",
       "        vertical-align: middle;\n",
       "    }\n",
       "\n",
       "    .dataframe tbody tr th {\n",
       "        vertical-align: top;\n",
       "    }\n",
       "\n",
       "    .dataframe thead th {\n",
       "        text-align: right;\n",
       "    }\n",
       "</style>\n",
       "<table border=\"1\" class=\"dataframe\">\n",
       "  <thead>\n",
       "    <tr style=\"text-align: right;\">\n",
       "      <th>converted</th>\n",
       "      <th>False</th>\n",
       "      <th>True</th>\n",
       "    </tr>\n",
       "    <tr>\n",
       "      <th>test group</th>\n",
       "      <th></th>\n",
       "      <th></th>\n",
       "    </tr>\n",
       "  </thead>\n",
       "  <tbody>\n",
       "    <tr>\n",
       "      <th>ad</th>\n",
       "      <td>0.935475</td>\n",
       "      <td>0.024525</td>\n",
       "    </tr>\n",
       "    <tr>\n",
       "      <th>psa</th>\n",
       "      <td>0.039286</td>\n",
       "      <td>0.000714</td>\n",
       "    </tr>\n",
       "  </tbody>\n",
       "</table>\n",
       "</div>"
      ],
      "text/plain": [
       "converted      False      True\n",
       "test group                    \n",
       "ad          0.935475  0.024525\n",
       "psa         0.039286  0.000714"
      ]
     },
     "execution_count": 12,
     "metadata": {},
     "output_type": "execute_result"
    }
   ],
   "source": [
    "pd.crosstab(df[\"test group\"], df[\"converted\"], normalize=True)"
   ]
  },
  {
   "cell_type": "code",
   "execution_count": 32,
   "metadata": {},
   "outputs": [
    {
     "name": "stdout",
     "output_type": "stream",
     "text": [
      "Tasa de conversión para el grupo 'ad': 0.025546559636683747\n",
      "Tasa de conversión para el grupo 'psa': 0.01785410644448223\n"
     ]
    }
   ],
   "source": [
    "# Tasa de conversión para el grupo \"ad\"\n",
    "ad_group = df[df['test group'] == 'ad']\n",
    "ad_conversion_rate = ad_group['converted'].mean()\n",
    "\n",
    "# Tasa de conversión para el grupo \"psa\"\n",
    "psa_group = df[df['test group'] == 'psa']\n",
    "psa_conversion_rate = psa_group['converted'].mean()\n",
    "\n",
    "print(f\"Tasa de conversión para el grupo 'ad': {ad_conversion_rate}\")\n",
    "print(f\"Tasa de conversión para el grupo 'psa': {psa_conversion_rate}\")\n"
   ]
  },
  {
   "cell_type": "code",
   "execution_count": 33,
   "metadata": {},
   "outputs": [
    {
     "name": "stdout",
     "output_type": "stream",
     "text": [
      "Estadístico t: 7.37040597428566\n",
      "Valor p: 1.7033052627831264e-13\n"
     ]
    }
   ],
   "source": [
    "from scipy.stats import ttest_ind\n",
    "\n",
    "# Realizar la prueba t de Student\n",
    "t_stat, p_value = ttest_ind(ad_group['converted'], psa_group['converted'])\n",
    "\n",
    "print(f\"Estadístico t: {t_stat}\")\n",
    "print(f\"Valor p: {p_value}\")\n"
   ]
  },
  {
   "cell_type": "code",
   "execution_count": 34,
   "metadata": {},
   "outputs": [
    {
     "name": "stdout",
     "output_type": "stream",
     "text": [
      "Rechazamos la hipótesis nula. Hay una diferencia significativa en la tasa de conversión entre los grupos 'ad' y 'psa'.\n"
     ]
    }
   ],
   "source": [
    "# Nivel de significancia\n",
    "alpha = 0.05\n",
    "\n",
    "if p_value < alpha:\n",
    "    print(\"Rechazamos la hipótesis nula. Hay una diferencia significativa en la tasa de conversión entre los grupos 'ad' y 'psa'.\")\n",
    "else:\n",
    "    print(\"No podemos rechazar la hipótesis nula. No hay evidencia suficiente para afirmar que hay una diferencia significativa en la tasa de conversión entre los grupos 'ad' y 'psa'.\")\n"
   ]
  }
 ],
 "metadata": {
  "kernelspec": {
   "display_name": "base",
   "language": "python",
   "name": "python3"
  },
  "language_info": {
   "codemirror_mode": {
    "name": "ipython",
    "version": 3
   },
   "file_extension": ".py",
   "mimetype": "text/x-python",
   "name": "python",
   "nbconvert_exporter": "python",
   "pygments_lexer": "ipython3",
   "version": "3.9.7"
  }
 },
 "nbformat": 4,
 "nbformat_minor": 2
}
