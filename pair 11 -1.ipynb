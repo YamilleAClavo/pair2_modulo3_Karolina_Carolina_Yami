{
 "cells": [
  {
   "cell_type": "code",
   "execution_count": null,
   "metadata": {},
   "outputs": [],
   "source": [
    "#En este caso trabajas en una empresa de venta al por menor de productos italianos y debes realizar la limpieza, transformación e integración de datos de ventas, productos y clientes para su análisis.\n",
    "#Los pasos que deberás seguir en este ejercicio son:\n",
    "#Lectura de la Información:\n",
    "#Leer los archivos CSV (ventas.csv, productos.csv, clientes.csv).\n",
    "#Explorar los conjuntos de datos para comprender su estructura, columnas, tipos de datos, etc.\n",
    "#Transformación de Datos:\n",
    "#Limpiar los datos: manejar valores nulos, eliminar duplicados si los hay, corregir errores tipográficos, etc.\n",
    "#Realizar la integración de datos: unir los conjuntos de datos apropiados para obtener una tabla única que contenga \n",
    "#información de ventas junto con detalles de productos y clientes.\n",
    "#Aplicar transformaciones relevantes según sea necesario: por ejemplo, convertir tipos de datos, renombrar columnas, crear nuevas características derivadas, etc."
   ]
  }
 ],
 "metadata": {
  "language_info": {
   "name": "python"
  }
 },
 "nbformat": 4,
 "nbformat_minor": 2
}
